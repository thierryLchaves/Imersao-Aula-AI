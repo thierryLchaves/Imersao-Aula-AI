{
 "cells": [
  {
   "cell_type": "markdown",
   "id": "1c86d0b2",
   "metadata": {},
   "source": [
    "# MasterClass Primeiros Passos com Python para Usar IA no Dia a Dia"
   ]
  },
  {
   "cell_type": "markdown",
   "id": "9f50d465",
   "metadata": {},
   "source": [
    "# Primeiros passo com operações mátemáticas"
   ]
  },
  {
   "cell_type": "code",
   "execution_count": 15,
   "id": "5acef7b9",
   "metadata": {},
   "outputs": [
    {
     "data": {
      "text/plain": [
       "9"
      ]
     },
     "execution_count": 15,
     "metadata": {},
     "output_type": "execute_result"
    }
   ],
   "source": [
    "2 + 7"
   ]
  },
  {
   "cell_type": "code",
   "execution_count": 16,
   "id": "3a344520",
   "metadata": {},
   "outputs": [
    {
     "data": {
      "text/plain": [
       "4"
      ]
     },
     "execution_count": 16,
     "metadata": {},
     "output_type": "execute_result"
    }
   ],
   "source": [
    "9 -5 "
   ]
  },
  {
   "cell_type": "code",
   "execution_count": 17,
   "id": "28be3d59",
   "metadata": {},
   "outputs": [
    {
     "data": {
      "text/plain": [
       "35"
      ]
     },
     "execution_count": 17,
     "metadata": {},
     "output_type": "execute_result"
    }
   ],
   "source": [
    "7 * 5"
   ]
  },
  {
   "cell_type": "code",
   "execution_count": 18,
   "id": "4b656f07",
   "metadata": {},
   "outputs": [
    {
     "data": {
      "text/plain": [
       "3.0"
      ]
     },
     "execution_count": 18,
     "metadata": {},
     "output_type": "execute_result"
    }
   ],
   "source": [
    "9 / 3"
   ]
  },
  {
   "cell_type": "markdown",
   "id": "d49392f9",
   "metadata": {},
   "source": [
    "Para a divsão como o python entende diretamente numéros inteiros e números decimais, o número em questão foi exibido em float"
   ]
  },
  {
   "cell_type": "markdown",
   "id": "141f9e9d",
   "metadata": {},
   "source": [
    "## Armazenamento de váriaveis. \n",
    "\n",
    "- Uma variavél e um objeto de programação que serve para armazenamento de valores (seja ele texto, número etc.. )\n",
    "- Seguindo as boas práticas em python, para noemar uma variavel tudo deve ser em minusculo, e com duas palavras ou Camel case ou separados po \"_\""
   ]
  },
  {
   "cell_type": "code",
   "execution_count": 22,
   "id": "7a508f36",
   "metadata": {},
   "outputs": [],
   "source": [
    "primeira_operacao = 5582 + 698498\n",
    "segunda_operacao  =  59598 -5958 \n",
    "multiplicacao = primeira_operacao * segunda_operacao"
   ]
  },
  {
   "cell_type": "markdown",
   "id": "3bc46130",
   "metadata": {},
   "source": [
    "## Exibindo resultados na tela"
   ]
  },
  {
   "cell_type": "code",
   "execution_count": 23,
   "id": "7acf3228",
   "metadata": {},
   "outputs": [
    {
     "name": "stdout",
     "output_type": "stream",
     "text": [
      "704080\n",
      "53640\n",
      "37766851200\n",
      "Olá mundo\n"
     ]
    }
   ],
   "source": [
    "print(primeira_operacao)\n",
    "print(segunda_operacao)\n",
    "print(multiplicacao)\n",
    "print('Olá mundo')"
   ]
  },
  {
   "cell_type": "markdown",
   "id": "ef142bd7",
   "metadata": {},
   "source": [
    "## Exibindo resultado concatenados \n",
    "\n",
    "- Para impressão de variavéis em conjunto com outro resultado , é possível realiza-los de duas formas diferentes sendo elas \n",
    "    - 1º ```print(\"resultado é\", variavel)``` \n",
    "    - 2ª ```print(f\"resultado é {variavel}\")``` a segunda abordagem é nomeada de Fstring "
   ]
  },
  {
   "cell_type": "code",
   "execution_count": 26,
   "id": "63e482a3",
   "metadata": {},
   "outputs": [
    {
     "name": "stdout",
     "output_type": "stream",
     "text": [
      "o resultado da multiplicação é 37766851200\n",
      "o resultado da multriplicação é 37766851200, que é a multiplicação de 704080 e 53640\n"
     ]
    }
   ],
   "source": [
    "print(\"o resultado da multiplicação é\", multiplicacao)\n",
    "print(f\"o resultado da multriplicação é {multiplicacao}, que é a multiplicação de {primeira_operacao} e {segunda_operacao}\")"
   ]
  },
  {
   "cell_type": "markdown",
   "id": "6de14e35",
   "metadata": {},
   "source": [
    "  <table style=\"text-align: center; width: 100%;\"> \n",
    "  <caption><b>Skls do projeto </b></caption>\n",
    "  <tr>\n",
    "      <td style=\"text-align: left;\">\n",
    "      <img alt=\"Markdown\" src=\"https://img.shields.io/badge/markdown-%23000000.svg?style=for-the-badge&logo=markdown&logoColor=white\"/>\n",
    "      </td>\n",
    "      <td style=\"text-align: center;\">\n",
    "      <img alt=\"GitHub\" src=\"https://img.shields.io/badge/github-%23121011.svg?style=for-the-badge&logo=github&logoColor=white\"/>\n",
    "      </td>\n",
    "      <td style=\"text-align: rigth;\">\n",
    "      <img alt=\"Vs code\" src=\"https://img.shields.io/badge/Visual%20Studio%20Code-0078d7.svg?style=for-the-badge&logo=visual-studio-code&logoColor=white\"/>\n",
    "      </td>\n",
    "      <td style=\"text-align: rigth;\">\n",
    "      <img alt=\"Jupyter Notebok\" src=https://img.shields.io/badge/jupyter-%23FA0F00.svg?style=for-the-badge&logo=jupyter&logoColor=white\"/>\n",
    "      </td>\n",
    "      <td style=\"text-align: rigth;\">\n",
    "      <img alt=\"Python\" src=\"https://img.shields.io/badge/python-3670A0?style=for-the-badge&logo=python&logoColor=ffdd54\"/>\n",
    "      </td>\n",
    "  </tr>\n",
    "  </table>   \n",
    "\n",
    "  ---\n",
    "Titulo: Aula 3.5 MasterClass Primeiros Passos com Python para Usar IA no Dia a Dia\n",
    "Autor: Thierry Lucas Chaves    \n",
    "Data criacao: 2025-05-14  \n",
    "Data modificacao: 2025-05-14  \n",
    "Versao: 1.0    \n",
    "---"
   ]
  }
 ],
 "metadata": {
  "kernelspec": {
   "display_name": "Python 3",
   "language": "python",
   "name": "python3"
  },
  "language_info": {
   "codemirror_mode": {
    "name": "ipython",
    "version": 3
   },
   "file_extension": ".py",
   "mimetype": "text/x-python",
   "name": "python",
   "nbconvert_exporter": "python",
   "pygments_lexer": "ipython3",
   "version": "3.13.1"
  }
 },
 "nbformat": 4,
 "nbformat_minor": 5
}
