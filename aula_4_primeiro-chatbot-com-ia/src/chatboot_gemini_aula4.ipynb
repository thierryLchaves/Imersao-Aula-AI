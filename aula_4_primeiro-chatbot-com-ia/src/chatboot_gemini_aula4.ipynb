{
 "cells": [
  {
   "cell_type": "code",
   "execution_count": null,
   "id": "edf36192",
   "metadata": {},
   "outputs": [],
   "source": [
    "import os\n",
    "os.environ.get('GOOGLE_API_KEY')"
   ]
  },
  {
   "cell_type": "code",
   "execution_count": null,
   "id": "3b5d0830",
   "metadata": {},
   "outputs": [],
   "source": [
    "from google import genai\n",
    "from google.genai import types\n",
    "\n",
    "client = genai.Client()"
   ]
  },
  {
   "cell_type": "code",
   "execution_count": null,
   "id": "8326a789",
   "metadata": {},
   "outputs": [],
   "source": [
    "for model in client.models.list():\n",
    "    print(model.name)"
   ]
  },
  {
   "cell_type": "code",
   "execution_count": null,
   "id": "8ace28b1",
   "metadata": {},
   "outputs": [],
   "source": [
    "modelo = \"gemini-2.0-flash\"\n",
    "\n",
    "resposta = client.models.generate_content(model=modelo,\n",
    "                                          contents=\"Quem é a empresa por tras dos modelos Gemini ?\")"
   ]
  },
  {
   "cell_type": "code",
   "execution_count": null,
   "id": "34b88bb0",
   "metadata": {},
   "outputs": [],
   "source": [
    "print(resposta.text)"
   ]
  },
  {
   "cell_type": "code",
   "execution_count": null,
   "id": "fbd5e41f",
   "metadata": {},
   "outputs": [],
   "source": [
    "chat = client.chats.create(model=modelo)\n",
    "resposta = chat.send_message(\"oi tudo bem?\")\n",
    "resposta.text"
   ]
  },
  {
   "cell_type": "code",
   "execution_count": null,
   "id": "4fab1a02",
   "metadata": {},
   "outputs": [],
   "source": [
    "resposta = chat.send_message(\"Você e um assistente pessoal e você sempre responde de forma sucinta. O que é Inteligência Artificial?\")\n",
    "resposta.text"
   ]
  },
  {
   "cell_type": "code",
   "execution_count": null,
   "id": "01a6ebc4",
   "metadata": {},
   "outputs": [],
   "source": [
    "chat_config = types.GenerateContentConfig (\n",
    "    system_instruction=\"Você e um assistente pessoal e você sempre responde de forma sucinta.\",\n",
    ")\n",
    "\n",
    "chat = client.chats.create(model=modelo,config=chat_config)"
   ]
  },
  {
   "cell_type": "code",
   "execution_count": null,
   "id": "5d2df833",
   "metadata": {},
   "outputs": [],
   "source": [
    "resposta = chat.send_message(\"O que é computação quântica?\")\n",
    "resposta.text"
   ]
  },
  {
   "cell_type": "code",
   "execution_count": null,
   "id": "d80711b4",
   "metadata": {},
   "outputs": [],
   "source": [
    "chat.get_history()"
   ]
  },
  {
   "cell_type": "code",
   "execution_count": null,
   "id": "edee6586",
   "metadata": {},
   "outputs": [],
   "source": [
    "prompt = input(\"Esperando prompt: \")\n",
    "\n",
    "while prompt != \"fim\":\n",
    "    resposta = chat.send_message(prompt)\n",
    "    print(f\"Pergunta: {prompt}\")\n",
    "    print(f\"Resposta: {resposta.text}\")\n",
    "    print(\"\\n\")\n",
    "    prompt = input(\"Esperando prompt: \")"
   ]
  },
  {
   "cell_type": "code",
   "execution_count": null,
   "id": "9a861bd4",
   "metadata": {},
   "outputs": [],
   "source": [
    "chat.get_history()"
   ]
  },
  {
   "cell_type": "code",
   "execution_count": null,
   "id": "2c4121bc",
   "metadata": {},
   "outputs": [],
   "source": [
    "chat_config_2 = types.GenerateContentConfig (\n",
    "    system_instruction=\"Você e um assistente pessoal e você sempre responde de forma sarcástica.\",\n",
    ")\n",
    "\n",
    "chat_2 = client.chats.create(model=modelo,config=chat_config_2)\n",
    "\n",
    "resposta = chat_2.send_message(\"Você e um assistente pessoal e você sempre responde de forma sucinta. O que é Inteligência Artificial?\")\n",
    "resposta.text"
   ]
  }
 ],
 "metadata": {
  "kernelspec": {
   "display_name": "Python 3",
   "language": "python",
   "name": "python3"
  },
  "language_info": {
   "codemirror_mode": {
    "name": "ipython",
    "version": 3
   },
   "file_extension": ".py",
   "mimetype": "text/x-python",
   "name": "python",
   "nbconvert_exporter": "python",
   "pygments_lexer": "ipython3",
   "version": "3.13.1"
  }
 },
 "nbformat": 4,
 "nbformat_minor": 5
}
