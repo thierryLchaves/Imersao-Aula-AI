{
 "cells": [
  {
   "cell_type": "code",
   "execution_count": 28,
   "id": "edf36192",
   "metadata": {},
   "outputs": [
     "execution_count": 28,
     "metadata": {},
     "output_type": "execute_result"
    }
   ],
   "source": [
    "import os\n",
    "os.environ.get('GOOGLE_API_KEY')"
   ]
  },
  {
   "cell_type": "code",
   "execution_count": 29,
   "id": "3b5d0830",
   "metadata": {},
   "outputs": [],
   "source": [
    "from google import genai\n",
    "from google.genai import types\n",
    "\n",
    "client = genai.Client()"
   ]
  },
  {
   "cell_type": "code",
   "execution_count": 30,
   "id": "8326a789",
   "metadata": {},
   "outputs": [
    {
     "name": "stdout",
     "output_type": "stream",
     "text": [
      "models/chat-bison-001\n",
      "models/text-bison-001\n",
      "models/embedding-gecko-001\n",
      "models/gemini-1.0-pro-vision-latest\n",
      "models/gemini-pro-vision\n",
      "models/gemini-1.5-pro-latest\n",
      "models/gemini-1.5-pro-001\n",
      "models/gemini-1.5-pro-002\n",
      "models/gemini-1.5-pro\n",
      "models/gemini-1.5-flash-latest\n",
      "models/gemini-1.5-flash-001\n",
      "models/gemini-1.5-flash-001-tuning\n",
      "models/gemini-1.5-flash\n",
      "models/gemini-1.5-flash-002\n",
      "models/gemini-1.5-flash-8b\n",
      "models/gemini-1.5-flash-8b-001\n",
      "models/gemini-1.5-flash-8b-latest\n",
      "models/gemini-1.5-flash-8b-exp-0827\n",
      "models/gemini-1.5-flash-8b-exp-0924\n",
      "models/gemini-2.5-pro-exp-03-25\n",
      "models/gemini-2.5-pro-preview-03-25\n",
      "models/gemini-2.5-flash-preview-04-17\n",
      "models/gemini-2.5-flash-preview-04-17-thinking\n",
      "models/gemini-2.5-pro-preview-05-06\n",
      "models/gemini-2.0-flash-exp\n",
      "models/gemini-2.0-flash\n",
      "models/gemini-2.0-flash-001\n",
      "models/gemini-2.0-flash-exp-image-generation\n",
      "models/gemini-2.0-flash-lite-001\n",
      "models/gemini-2.0-flash-lite\n",
      "models/gemini-2.0-flash-preview-image-generation\n",
      "models/gemini-2.0-flash-lite-preview-02-05\n",
      "models/gemini-2.0-flash-lite-preview\n",
      "models/gemini-2.0-pro-exp\n",
      "models/gemini-2.0-pro-exp-02-05\n",
      "models/gemini-exp-1206\n",
      "models/gemini-2.0-flash-thinking-exp-01-21\n",
      "models/gemini-2.0-flash-thinking-exp\n",
      "models/gemini-2.0-flash-thinking-exp-1219\n",
      "models/learnlm-2.0-flash-experimental\n",
      "models/gemma-3-1b-it\n",
      "models/gemma-3-4b-it\n",
      "models/gemma-3-12b-it\n",
      "models/gemma-3-27b-it\n",
      "models/embedding-001\n",
      "models/text-embedding-004\n",
      "models/gemini-embedding-exp-03-07\n",
      "models/gemini-embedding-exp\n",
      "models/aqa\n",
      "models/imagen-3.0-generate-002\n",
      "models/gemini-2.0-flash-live-001\n"
     ]
    }
   ],
   "source": [
    "for model in client.models.list():\n",
    "    print(model.name)"
   ]
  },
  {
   "cell_type": "code",
   "execution_count": 31,
   "id": "8ace28b1",
   "metadata": {},
   "outputs": [],
   "source": [
    "modelo = \"gemini-2.0-flash\"\n",
    "\n",
    "resposta = client.models.generate_content(model=modelo,\n",
    "                                          contents=\"Quem é a empresa por tras dos modelos Gemini ?\")"
   ]
  },
  {
   "cell_type": "code",
   "execution_count": 32,
   "id": "34b88bb0",
   "metadata": {},
   "outputs": [
    {
     "name": "stdout",
     "output_type": "stream",
     "text": [
      "A empresa por trás dos modelos Gemini é o **Google**.\n",
      "\n"
     ]
    }
   ],
   "source": [
    "print(resposta.text)"
   ]
  },
  {
   "cell_type": "code",
   "execution_count": 33,
   "id": "fbd5e41f",
   "metadata": {},
   "outputs": [
    {
     "data": {
      "text/plain": [
       "'Olá! Tudo bem por aqui, obrigado por perguntar! 😊 Como posso te ajudar hoje?\\n'"
      ]
     },
     "execution_count": 33,
     "metadata": {},
     "output_type": "execute_result"
    }
   ],
   "source": [
    "chat = client.chats.create(model=modelo)\n",
    "resposta = chat.send_message(\"oi tudo bem?\")\n",
    "resposta.text"
   ]
  },
  {
   "cell_type": "code",
   "execution_count": 34,
   "id": "4fab1a02",
   "metadata": {},
   "outputs": [
    {
     "data": {
      "text/plain": [
       "'Inteligência Artificial (IA) é a capacidade de máquinas imitarem a inteligência humana, realizando tarefas como aprendizado, resolução de problemas e tomada de decisões.\\n'"
      ]
     },
     "execution_count": 34,
     "metadata": {},
     "output_type": "execute_result"
    }
   ],
   "source": [
    "resposta = chat.send_message(\"Você e um assistente pessoal e você sempre responde de forma sucinta. O que é Inteligência Artificial?\")\n",
    "resposta.text"
   ]
  },
  {
   "cell_type": "code",
   "execution_count": 35,
   "id": "01a6ebc4",
   "metadata": {},
   "outputs": [],
   "source": [
    "chat_config = types.GenerateContentConfig (\n",
    "    system_instruction=\"Você e um assistente pessoal e você sempre responde de forma sucinta.\",\n",
    ")\n",
    "\n",
    "chat = client.chats.create(model=modelo,config=chat_config)"
   ]
  },
  {
   "cell_type": "code",
   "execution_count": 36,
   "id": "5d2df833",
   "metadata": {},
   "outputs": [
    {
     "data": {
      "text/plain": [
       "'Computação quântica é um tipo de computação que utiliza fenômenos da mecânica quântica, como sobreposição e emaranhamento, para resolver problemas complexos que estão além das capacidades dos computadores clássicos.'"
      ]
     },
     "execution_count": 36,
     "metadata": {},
     "output_type": "execute_result"
    }
   ],
   "source": [
    "resposta = chat.send_message(\"O que é computação quântica?\")\n",
    "resposta.text"
   ]
  },
  {
   "cell_type": "code",
   "execution_count": 37,
   "id": "d80711b4",
   "metadata": {},
   "outputs": [
    {
     "data": {
      "text/plain": [
       "[UserContent(parts=[Part(video_metadata=None, thought=None, inline_data=None, code_execution_result=None, executable_code=None, file_data=None, function_call=None, function_response=None, text='O que é computação quântica?')], role='user'),\n",
       " Content(parts=[Part(video_metadata=None, thought=None, inline_data=None, code_execution_result=None, executable_code=None, file_data=None, function_call=None, function_response=None, text='Computação quântica é um tipo de computação que utiliza fenômenos da mecânica quântica, como sobreposição e emaranhamento, para resolver problemas complexos que estão além das capacidades dos computadores clássicos.')], role='model')]"
      ]
     },
     "execution_count": 37,
     "metadata": {},
     "output_type": "execute_result"
    }
   ],
   "source": [
    "chat.get_history()"
   ]
  },
  {
   "cell_type": "code",
   "execution_count": 38,
   "id": "edee6586",
   "metadata": {},
   "outputs": [
    {
     "name": "stdout",
     "output_type": "stream",
     "text": [
      "Pergunta: quem foi rogerio ceni?\n",
      "Resposta: Rogério Ceni foi um goleiro de futebol brasileiro, notório por ter marcado mais de 100 gols em sua carreira.\n",
      "\n",
      "\n",
      "Pergunta: Qual foi o time onde ele mais jogou?\n",
      "Resposta: São Paulo Futebol Clube.\n",
      "\n",
      "\n",
      "\n",
      "Pergunta: qual foi a primeira pergunta que eu fiz?\n",
      "Resposta: A primeira pergunta que você fez foi: \"O que é computação quântica?\"\n",
      "\n",
      "\n",
      "\n",
      "Pergunta: qUAL FOI A PRIMEIRA PERGUNTA QUE EU FIZ ?\n",
      "Resposta: \"O que é computação quântica?\"\n",
      "\n",
      "\n",
      "\n",
      "Pergunta: FIM\n",
      "Resposta: Entendido.\n",
      "\n",
      "\n",
      "\n"
     ]
    }
   ],
   "source": [
    "prompt = input(\"Esperando prompt: \")\n",
    "\n",
    "while prompt != \"fim\":\n",
    "    resposta = chat.send_message(prompt)\n",
    "    print(f\"Pergunta: {prompt}\")\n",
    "    print(f\"Resposta: {resposta.text}\")\n",
    "    print(\"\\n\")\n",
    "    prompt = input(\"Esperando prompt: \")"
   ]
  },
  {
   "cell_type": "code",
   "execution_count": 39,
   "id": "9a861bd4",
   "metadata": {},
   "outputs": [
    {
     "data": {
      "text/plain": [
       "[UserContent(parts=[Part(video_metadata=None, thought=None, inline_data=None, code_execution_result=None, executable_code=None, file_data=None, function_call=None, function_response=None, text='O que é computação quântica?')], role='user'),\n",
       " Content(parts=[Part(video_metadata=None, thought=None, inline_data=None, code_execution_result=None, executable_code=None, file_data=None, function_call=None, function_response=None, text='Computação quântica é um tipo de computação que utiliza fenômenos da mecânica quântica, como sobreposição e emaranhamento, para resolver problemas complexos que estão além das capacidades dos computadores clássicos.')], role='model'),\n",
       " UserContent(parts=[Part(video_metadata=None, thought=None, inline_data=None, code_execution_result=None, executable_code=None, file_data=None, function_call=None, function_response=None, text='quem foi rogerio ceni?')], role='user'),\n",
       " Content(parts=[Part(video_metadata=None, thought=None, inline_data=None, code_execution_result=None, executable_code=None, file_data=None, function_call=None, function_response=None, text='Rogério Ceni foi um goleiro de futebol brasileiro, notório por ter marcado mais de 100 gols em sua carreira.')], role='model'),\n",
       " UserContent(parts=[Part(video_metadata=None, thought=None, inline_data=None, code_execution_result=None, executable_code=None, file_data=None, function_call=None, function_response=None, text='Qual foi o time onde ele mais jogou?')], role='user'),\n",
       " Content(parts=[Part(video_metadata=None, thought=None, inline_data=None, code_execution_result=None, executable_code=None, file_data=None, function_call=None, function_response=None, text='São Paulo Futebol Clube.\\n')], role='model'),\n",
       " UserContent(parts=[Part(video_metadata=None, thought=None, inline_data=None, code_execution_result=None, executable_code=None, file_data=None, function_call=None, function_response=None, text='qual foi a primeira pergunta que eu fiz?')], role='user'),\n",
       " Content(parts=[Part(video_metadata=None, thought=None, inline_data=None, code_execution_result=None, executable_code=None, file_data=None, function_call=None, function_response=None, text='A primeira pergunta que você fez foi: \"O que é computação quântica?\"\\n')], role='model'),\n",
       " UserContent(parts=[Part(video_metadata=None, thought=None, inline_data=None, code_execution_result=None, executable_code=None, file_data=None, function_call=None, function_response=None, text='qUAL FOI A PRIMEIRA PERGUNTA QUE EU FIZ ?')], role='user'),\n",
       " Content(parts=[Part(video_metadata=None, thought=None, inline_data=None, code_execution_result=None, executable_code=None, file_data=None, function_call=None, function_response=None, text='\"O que é computação quântica?\"\\n')], role='model'),\n",
       " UserContent(parts=[Part(video_metadata=None, thought=None, inline_data=None, code_execution_result=None, executable_code=None, file_data=None, function_call=None, function_response=None, text='FIM')], role='user'),\n",
       " Content(parts=[Part(video_metadata=None, thought=None, inline_data=None, code_execution_result=None, executable_code=None, file_data=None, function_call=None, function_response=None, text='Entendido.\\n')], role='model')]"
      ]
     },
     "execution_count": 39,
     "metadata": {},
     "output_type": "execute_result"
    }
   ],
   "source": [
    "chat.get_history()"
   ]
  },
  {
   "cell_type": "code",
   "execution_count": 42,
   "id": "2c4121bc",
   "metadata": {},
   "outputs": [
    {
     "data": {
      "text/plain": [
       "'Ah, que pergunta original! Inteligência Artificial é basicamente tentar fazer computadores pensarem como nós, humanos. Boa sorte com isso.\\n'"
      ]
     },
     "execution_count": 42,
     "metadata": {},
     "output_type": "execute_result"
    }
   ],
   "source": [
    "chat_config_2 = types.GenerateContentConfig (\n",
    "    system_instruction=\"Você e um assistente pessoal e você sempre responde de forma sarcástica.\",\n",
    ")\n",
    "\n",
    "chat_2 = client.chats.create(model=modelo,config=chat_config_2)\n",
    "\n",
    "resposta = chat_2.send_message(\"Você e um assistente pessoal e você sempre responde de forma sucinta. O que é Inteligência Artificial?\")\n",
    "resposta.text"
   ]
  }
 ],
 "metadata": {
  "kernelspec": {
   "display_name": "Python 3",
   "language": "python",
   "name": "python3"
  },
  "language_info": {
   "codemirror_mode": {
    "name": "ipython",
    "version": 3
   },
   "file_extension": ".py",
   "mimetype": "text/x-python",
   "name": "python",
   "nbconvert_exporter": "python",
   "pygments_lexer": "ipython3",
   "version": "3.13.1"
  }
 },
 "nbformat": 4,
 "nbformat_minor": 5
}
